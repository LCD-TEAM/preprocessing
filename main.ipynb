{
 "cells": [
  {
   "cell_type": "code",
   "execution_count": 1,
   "metadata": {},
   "outputs": [
    {
     "name": "stderr",
     "output_type": "stream",
     "text": [
      "/home/darinka/.local/share/virtualenvs/news-parser-IZMhYhw-/lib/python3.9/site-packages/tqdm/auto.py:22: TqdmWarning: IProgress not found. Please update jupyter and ipywidgets. See https://ipywidgets.readthedocs.io/en/stable/user_install.html\n",
      "  from .autonotebook import tqdm as notebook_tqdm\n",
      "[nltk_data] Downloading package stopwords to\n",
      "[nltk_data]     /home/darinka/nltk_data...\n",
      "[nltk_data]   Package stopwords is already up-to-date!\n"
     ]
    },
    {
     "data": {
      "text/plain": [
       "True"
      ]
     },
     "execution_count": 1,
     "metadata": {},
     "output_type": "execute_result"
    }
   ],
   "source": [
    "import pandas as pd\n",
    "import numpy as np\n",
    "import re\n",
    "import razdel\n",
    "import pymorphy2\n",
    "from sklearn.decomposition import PCA\n",
    "import torch\n",
    "import nltk\n",
    "from navec import Navec\n",
    "from sklearn.metrics.pairwise import cosine_similarity\n",
    "from sklearn.cluster import AgglomerativeClustering\n",
    "from sklearn.neighbors import NearestCentroid\n",
    "from nltk.corpus import stopwords\n",
    "from sklearn.feature_extraction.text import TfidfTransformer \n",
    "from sklearn.feature_extraction.text import CountVectorizer \n",
    "import warnings\n",
    "\n",
    "warnings.filterwarnings(\"ignore\")\n",
    "\n",
    "nltk.download('stopwords')"
   ]
  },
  {
   "cell_type": "code",
   "execution_count": 255,
   "metadata": {},
   "outputs": [],
   "source": [
    "buhru_data = pd.read_csv('../data/news_buhru.csv')\n",
    "bankiru_data = pd.read_csv('../data/banki_ru.csv')\n",
    "rbc_data = pd.read_csv('../data/news_rbc.csv')\n",
    "rbc_data = pd.read_csv('../data/news_lentaru.csv')\n",
    "\n",
    "data = pd.concat([buhru_data, bankiru_data, rbc_data])\n",
    "data = data.set_index(pd.Index(range(len(data))))"
   ]
  },
  {
   "cell_type": "code",
   "execution_count": 256,
   "metadata": {},
   "outputs": [
    {
     "data": {
      "text/html": [
       "<div>\n",
       "<style scoped>\n",
       "    .dataframe tbody tr th:only-of-type {\n",
       "        vertical-align: middle;\n",
       "    }\n",
       "\n",
       "    .dataframe tbody tr th {\n",
       "        vertical-align: top;\n",
       "    }\n",
       "\n",
       "    .dataframe thead th {\n",
       "        text-align: right;\n",
       "    }\n",
       "</style>\n",
       "<table border=\"1\" class=\"dataframe\">\n",
       "  <thead>\n",
       "    <tr style=\"text-align: right;\">\n",
       "      <th></th>\n",
       "      <th>title</th>\n",
       "      <th>date</th>\n",
       "      <th>content</th>\n",
       "      <th>num_views</th>\n",
       "      <th>num_comments</th>\n",
       "      <th>tags</th>\n",
       "      <th>url</th>\n",
       "    </tr>\n",
       "  </thead>\n",
       "  <tbody>\n",
       "    <tr>\n",
       "      <th>0</th>\n",
       "      <td>Повышение лимитов для УСН, упрощенные правила ...</td>\n",
       "      <td>07.10.2022</td>\n",
       "      <td>Редакция БУХ.1С напоминает о самых позитивных ...</td>\n",
       "      <td>1549</td>\n",
       "      <td>0</td>\n",
       "      <td>проверки бизнеса;лицензирование;предельные дох...</td>\n",
       "      <td>NaN</td>\n",
       "    </tr>\n",
       "    <tr>\n",
       "      <th>1</th>\n",
       "      <td>Единый семинар 1С для бухгалтеров и руководите...</td>\n",
       "      <td>07.10.2022</td>\n",
       "      <td>12 октября 2022 в 10:00 по местному времени фи...</td>\n",
       "      <td>5098</td>\n",
       "      <td>0</td>\n",
       "      <td>Единый семинар;семинар по бухучету и налогообл...</td>\n",
       "      <td>NaN</td>\n",
       "    </tr>\n",
       "    <tr>\n",
       "      <th>2</th>\n",
       "      <td>Работодателей обязали сдавать СЗВ-ТД при приос...</td>\n",
       "      <td>07.10.2022</td>\n",
       "      <td>С 7 октября 2022 года вступили в силу поправки...</td>\n",
       "      <td>1726</td>\n",
       "      <td>1</td>\n",
       "      <td>СЗВ-ТД;мобилизация;трудовой договор;отчетность...</td>\n",
       "      <td>NaN</td>\n",
       "    </tr>\n",
       "    <tr>\n",
       "      <th>3</th>\n",
       "      <td>Вправе ли работодатель отправлять форму СТД-Р ...</td>\n",
       "      <td>07.10.2022</td>\n",
       "      <td>Эксперты Роструда разъяснили, вправе ли работо...</td>\n",
       "      <td>834</td>\n",
       "      <td>0</td>\n",
       "      <td>увольнение по инициативе сотрудника;СТД-Р;прав...</td>\n",
       "      <td>NaN</td>\n",
       "    </tr>\n",
       "    <tr>\n",
       "      <th>4</th>\n",
       "      <td>Опубликована видеозапись лекции об использован...</td>\n",
       "      <td>07.10.2022</td>\n",
       "      <td>На странице 1С:Лектория опубликована видеозапи...</td>\n",
       "      <td>781</td>\n",
       "      <td>0</td>\n",
       "      <td>1С:Лекторий;1С:Предприятие 8;СЭДО;пособия;1С:З...</td>\n",
       "      <td>NaN</td>\n",
       "    </tr>\n",
       "    <tr>\n",
       "      <th>...</th>\n",
       "      <td>...</td>\n",
       "      <td>...</td>\n",
       "      <td>...</td>\n",
       "      <td>...</td>\n",
       "      <td>...</td>\n",
       "      <td>...</td>\n",
       "      <td>...</td>\n",
       "    </tr>\n",
       "    <tr>\n",
       "      <th>29098</th>\n",
       "      <td>Мишустин заявил о готовности России перейти к ...</td>\n",
       "      <td>04.07.2022</td>\n",
       "      <td>Россия должна отказаться от догоняющей модели ...</td>\n",
       "      <td>0</td>\n",
       "      <td>0</td>\n",
       "      <td>Госэкономика</td>\n",
       "      <td>NaN</td>\n",
       "    </tr>\n",
       "    <tr>\n",
       "      <th>29099</th>\n",
       "      <td>Оценены успехи программы импортозамещения в Ро...</td>\n",
       "      <td>04.07.2022</td>\n",
       "      <td>С 2010 по 2021 год в рамках стратегии импортоз...</td>\n",
       "      <td>0</td>\n",
       "      <td>0</td>\n",
       "      <td>Госэкономика</td>\n",
       "      <td>NaN</td>\n",
       "    </tr>\n",
       "    <tr>\n",
       "      <th>29100</th>\n",
       "      <td>В Сбере стала доступна комбо-ипотека</td>\n",
       "      <td>04.07.2022</td>\n",
       "      <td>Сбер запустил уникальное предложение на рынке ...</td>\n",
       "      <td>0</td>\n",
       "      <td>0</td>\n",
       "      <td>Бизнес</td>\n",
       "      <td>NaN</td>\n",
       "    </tr>\n",
       "    <tr>\n",
       "      <th>29101</th>\n",
       "      <td>Назван срок появления электромотоциклов Aurus</td>\n",
       "      <td>04.07.2022</td>\n",
       "      <td>Серийное производство электрических мотоциклов...</td>\n",
       "      <td>0</td>\n",
       "      <td>0</td>\n",
       "      <td>Рынки</td>\n",
       "      <td>NaN</td>\n",
       "    </tr>\n",
       "    <tr>\n",
       "      <th>29102</th>\n",
       "      <td>Африканская страна запустит свою криптовалюту</td>\n",
       "      <td>04.07.2022</td>\n",
       "      <td>Глава Центральноафриканской Республики (ЦАР) Ф...</td>\n",
       "      <td>0</td>\n",
       "      <td>0</td>\n",
       "      <td>Криптовалюта</td>\n",
       "      <td>NaN</td>\n",
       "    </tr>\n",
       "  </tbody>\n",
       "</table>\n",
       "<p>29103 rows × 7 columns</p>\n",
       "</div>"
      ],
      "text/plain": [
       "                                                   title        date  \\\n",
       "0      Повышение лимитов для УСН, упрощенные правила ...  07.10.2022   \n",
       "1      Единый семинар 1С для бухгалтеров и руководите...  07.10.2022   \n",
       "2      Работодателей обязали сдавать СЗВ-ТД при приос...  07.10.2022   \n",
       "3      Вправе ли работодатель отправлять форму СТД-Р ...  07.10.2022   \n",
       "4      Опубликована видеозапись лекции об использован...  07.10.2022   \n",
       "...                                                  ...         ...   \n",
       "29098  Мишустин заявил о готовности России перейти к ...  04.07.2022   \n",
       "29099  Оценены успехи программы импортозамещения в Ро...  04.07.2022   \n",
       "29100               В Сбере стала доступна комбо-ипотека  04.07.2022   \n",
       "29101      Назван срок появления электромотоциклов Aurus  04.07.2022   \n",
       "29102      Африканская страна запустит свою криптовалюту  04.07.2022   \n",
       "\n",
       "                                                 content  num_views  \\\n",
       "0      Редакция БУХ.1С напоминает о самых позитивных ...       1549   \n",
       "1      12 октября 2022 в 10:00 по местному времени фи...       5098   \n",
       "2      С 7 октября 2022 года вступили в силу поправки...       1726   \n",
       "3      Эксперты Роструда разъяснили, вправе ли работо...        834   \n",
       "4      На странице 1С:Лектория опубликована видеозапи...        781   \n",
       "...                                                  ...        ...   \n",
       "29098  Россия должна отказаться от догоняющей модели ...          0   \n",
       "29099  С 2010 по 2021 год в рамках стратегии импортоз...          0   \n",
       "29100  Сбер запустил уникальное предложение на рынке ...          0   \n",
       "29101  Серийное производство электрических мотоциклов...          0   \n",
       "29102  Глава Центральноафриканской Республики (ЦАР) Ф...          0   \n",
       "\n",
       "       num_comments                                               tags  url  \n",
       "0                 0  проверки бизнеса;лицензирование;предельные дох...  NaN  \n",
       "1                 0  Единый семинар;семинар по бухучету и налогообл...  NaN  \n",
       "2                 1  СЗВ-ТД;мобилизация;трудовой договор;отчетность...  NaN  \n",
       "3                 0  увольнение по инициативе сотрудника;СТД-Р;прав...  NaN  \n",
       "4                 0  1С:Лекторий;1С:Предприятие 8;СЭДО;пособия;1С:З...  NaN  \n",
       "...             ...                                                ...  ...  \n",
       "29098             0                                       Госэкономика  NaN  \n",
       "29099             0                                       Госэкономика  NaN  \n",
       "29100             0                                             Бизнес  NaN  \n",
       "29101             0                                              Рынки  NaN  \n",
       "29102             0                                       Криптовалюта  NaN  \n",
       "\n",
       "[29103 rows x 7 columns]"
      ]
     },
     "execution_count": 256,
     "metadata": {},
     "output_type": "execute_result"
    }
   ],
   "source": [
    "data"
   ]
  },
  {
   "cell_type": "code",
   "execution_count": 14,
   "metadata": {},
   "outputs": [],
   "source": [
    "morph = pymorphy2.MorphAnalyzer()"
   ]
  },
  {
   "cell_type": "code",
   "execution_count": 15,
   "metadata": {},
   "outputs": [],
   "source": [
    "stop_eng = set(stopwords.words('english') + ['a', 'b', 'c', 'd', 'e', 'f', 'g', \n",
    "                                            'h', 'i', 'j', 'k', 'l', 'm', 'n', \n",
    "                                            'o', 'p', 'q', 'r', 's', 't', 'u', 'v', 'w', 'x', 'y', 'z'])\n",
    "stop_rus = set(stopwords.words('russian') + ['а', 'о', 'у', 'ы', 'э', 'я', 'е', \n",
    "                                            'ё', 'ю', 'и', 'б', 'в', 'г', 'д', \n",
    "                                            'й', 'ж', 'з', 'к', 'л', 'м', 'н', \n",
    "                                            'п', 'р', 'с', 'т', 'ф', 'х', 'ц', 'ч', 'ш', 'щ']) \n",
    "stop_words = stop_eng.union(stop_rus)"
   ]
  },
  {
   "cell_type": "code",
   "execution_count": 12,
   "metadata": {},
   "outputs": [],
   "source": [
    "def parse_tokens(text: str) -> list:\n",
    "    words = re.split(r\"\\[|, '|'|\\]\", text)\n",
    "    return \" \".join(words).strip().split(\"  \")\n",
    "\n",
    "\n",
    "def tokenize_with_razdel(text: str) -> list:\n",
    "    \"\"\"\n",
    "    Токенизация с помощью модуля razdel\n",
    "    \"\"\"\n",
    "    return [token.text for token in razdel.tokenize(text)]\n",
    "\n",
    "\n",
    "def lemmatize(tokens: list) -> str:\n",
    "    words = [morph.parse(token)[0].normal_form for token in tokens]\n",
    "    return \" \".join([word for word in words if word not in stop_words and len(word) > 2])\n",
    "\n",
    "\n",
    "def preprocessing_name(text: str) -> str:\n",
    "    \"\"\"\n",
    "    Токенизация и лемматизация текста\n",
    "    \"\"\"\n",
    "    if isinstance(text, str):\n",
    "        return lemmatize(tokenize_with_razdel(clean_text(text)))\n",
    "    return \"\"\n",
    "\n",
    "def clean_text(text):\n",
    "    text = re.sub('[^а-яa-zёА-ЯA-ZЁ-]+', ' ', text.strip())\n",
    "    text = re.sub(' - |- | -', ' ', text.lower())\n",
    "    return re.sub('\\s+', ' ', text)\n",
    "\n",
    "def preprocessing_names(names: list):\n",
    "    return [preprocessing_name(clean_text(name)) for name in names]"
   ]
  },
  {
   "cell_type": "code",
   "execution_count": 262,
   "metadata": {},
   "outputs": [],
   "source": [
    "data['title_tokens'] = data['title'].apply(preprocessing_name)"
   ]
  },
  {
   "cell_type": "code",
   "execution_count": 263,
   "metadata": {},
   "outputs": [],
   "source": [
    "data['tags_tokens'] = data['tags'].apply(preprocessing_name)"
   ]
  },
  {
   "cell_type": "code",
   "execution_count": 264,
   "metadata": {},
   "outputs": [],
   "source": [
    "data['content_tokens'] = data['content'].apply(preprocessing_name)"
   ]
  },
  {
   "cell_type": "code",
   "execution_count": 6,
   "metadata": {},
   "outputs": [
    {
     "ename": "TypeError",
     "evalue": "sequence item 2: expected str instance, float found",
     "output_type": "error",
     "traceback": [
      "\u001b[0;31m---------------------------------------------------------------------------\u001b[0m",
      "\u001b[0;31mTypeError\u001b[0m                                 Traceback (most recent call last)",
      "Cell \u001b[0;32mIn [6], line 1\u001b[0m\n\u001b[0;32m----> 1\u001b[0m data[\u001b[38;5;124m'\u001b[39m\u001b[38;5;124mtext_tokens\u001b[39m\u001b[38;5;124m'\u001b[39m] \u001b[38;5;241m=\u001b[39m \u001b[43mdata\u001b[49m\u001b[43m[\u001b[49m\u001b[43m[\u001b[49m\u001b[38;5;124;43m'\u001b[39;49m\u001b[38;5;124;43mtitle_tokens\u001b[39;49m\u001b[38;5;124;43m'\u001b[39;49m\u001b[43m,\u001b[49m\u001b[43m \u001b[49m\u001b[38;5;124;43m'\u001b[39;49m\u001b[38;5;124;43mtags_tokens\u001b[39;49m\u001b[38;5;124;43m'\u001b[39;49m\u001b[43m,\u001b[49m\u001b[43m \u001b[49m\u001b[38;5;124;43m'\u001b[39;49m\u001b[38;5;124;43mcontent_tokens\u001b[39;49m\u001b[38;5;124;43m'\u001b[39;49m\u001b[43m]\u001b[49m\u001b[43m]\u001b[49m\u001b[38;5;241;43m.\u001b[39;49m\u001b[43mapply\u001b[49m\u001b[43m(\u001b[49m\u001b[38;5;124;43m'\u001b[39;49m\u001b[38;5;124;43m \u001b[39;49m\u001b[38;5;124;43m'\u001b[39;49m\u001b[38;5;241;43m.\u001b[39;49m\u001b[43mjoin\u001b[49m\u001b[43m,\u001b[49m\u001b[43m \u001b[49m\u001b[43maxis\u001b[49m\u001b[38;5;241;43m=\u001b[39;49m\u001b[38;5;241;43m1\u001b[39;49m\u001b[43m)\u001b[49m\n",
      "File \u001b[0;32m~/.local/share/virtualenvs/news-parser-IZMhYhw-/lib/python3.9/site-packages/pandas/core/frame.py:9558\u001b[0m, in \u001b[0;36mDataFrame.apply\u001b[0;34m(self, func, axis, raw, result_type, args, **kwargs)\u001b[0m\n\u001b[1;32m   9547\u001b[0m \u001b[39mfrom\u001b[39;00m \u001b[39mpandas\u001b[39;00m\u001b[39m.\u001b[39;00m\u001b[39mcore\u001b[39;00m\u001b[39m.\u001b[39;00m\u001b[39mapply\u001b[39;00m \u001b[39mimport\u001b[39;00m frame_apply\n\u001b[1;32m   9549\u001b[0m op \u001b[39m=\u001b[39m frame_apply(\n\u001b[1;32m   9550\u001b[0m     \u001b[39mself\u001b[39m,\n\u001b[1;32m   9551\u001b[0m     func\u001b[39m=\u001b[39mfunc,\n\u001b[0;32m   (...)\u001b[0m\n\u001b[1;32m   9556\u001b[0m     kwargs\u001b[39m=\u001b[39mkwargs,\n\u001b[1;32m   9557\u001b[0m )\n\u001b[0;32m-> 9558\u001b[0m \u001b[39mreturn\u001b[39;00m op\u001b[39m.\u001b[39;49mapply()\u001b[39m.\u001b[39m__finalize__(\u001b[39mself\u001b[39m, method\u001b[39m=\u001b[39m\u001b[39m\"\u001b[39m\u001b[39mapply\u001b[39m\u001b[39m\"\u001b[39m)\n",
      "File \u001b[0;32m~/.local/share/virtualenvs/news-parser-IZMhYhw-/lib/python3.9/site-packages/pandas/core/apply.py:741\u001b[0m, in \u001b[0;36mFrameApply.apply\u001b[0;34m(self)\u001b[0m\n\u001b[1;32m    738\u001b[0m \u001b[39melif\u001b[39;00m \u001b[39mself\u001b[39m\u001b[39m.\u001b[39mraw:\n\u001b[1;32m    739\u001b[0m     \u001b[39mreturn\u001b[39;00m \u001b[39mself\u001b[39m\u001b[39m.\u001b[39mapply_raw()\n\u001b[0;32m--> 741\u001b[0m \u001b[39mreturn\u001b[39;00m \u001b[39mself\u001b[39;49m\u001b[39m.\u001b[39;49mapply_standard()\n",
      "File \u001b[0;32m~/.local/share/virtualenvs/news-parser-IZMhYhw-/lib/python3.9/site-packages/pandas/core/apply.py:868\u001b[0m, in \u001b[0;36mFrameApply.apply_standard\u001b[0;34m(self)\u001b[0m\n\u001b[1;32m    867\u001b[0m \u001b[39mdef\u001b[39;00m \u001b[39mapply_standard\u001b[39m(\u001b[39mself\u001b[39m):\n\u001b[0;32m--> 868\u001b[0m     results, res_index \u001b[39m=\u001b[39m \u001b[39mself\u001b[39;49m\u001b[39m.\u001b[39;49mapply_series_generator()\n\u001b[1;32m    870\u001b[0m     \u001b[39m# wrap results\u001b[39;00m\n\u001b[1;32m    871\u001b[0m     \u001b[39mreturn\u001b[39;00m \u001b[39mself\u001b[39m\u001b[39m.\u001b[39mwrap_results(results, res_index)\n",
      "File \u001b[0;32m~/.local/share/virtualenvs/news-parser-IZMhYhw-/lib/python3.9/site-packages/pandas/core/apply.py:884\u001b[0m, in \u001b[0;36mFrameApply.apply_series_generator\u001b[0;34m(self)\u001b[0m\n\u001b[1;32m    881\u001b[0m \u001b[39mwith\u001b[39;00m option_context(\u001b[39m\"\u001b[39m\u001b[39mmode.chained_assignment\u001b[39m\u001b[39m\"\u001b[39m, \u001b[39mNone\u001b[39;00m):\n\u001b[1;32m    882\u001b[0m     \u001b[39mfor\u001b[39;00m i, v \u001b[39min\u001b[39;00m \u001b[39menumerate\u001b[39m(series_gen):\n\u001b[1;32m    883\u001b[0m         \u001b[39m# ignore SettingWithCopy here in case the user mutates\u001b[39;00m\n\u001b[0;32m--> 884\u001b[0m         results[i] \u001b[39m=\u001b[39m \u001b[39mself\u001b[39;49m\u001b[39m.\u001b[39;49mf(v)\n\u001b[1;32m    885\u001b[0m         \u001b[39mif\u001b[39;00m \u001b[39misinstance\u001b[39m(results[i], ABCSeries):\n\u001b[1;32m    886\u001b[0m             \u001b[39m# If we have a view on v, we need to make a copy because\u001b[39;00m\n\u001b[1;32m    887\u001b[0m             \u001b[39m#  series_generator will swap out the underlying data\u001b[39;00m\n\u001b[1;32m    888\u001b[0m             results[i] \u001b[39m=\u001b[39m results[i]\u001b[39m.\u001b[39mcopy(deep\u001b[39m=\u001b[39m\u001b[39mFalse\u001b[39;00m)\n",
      "\u001b[0;31mTypeError\u001b[0m: sequence item 2: expected str instance, float found"
     ]
    }
   ],
   "source": [
    "data['text_tokens'] = data[['title_tokens', 'tags_tokens', 'content_tokens']].apply(' '.join, axis=1)"
   ]
  },
  {
   "cell_type": "code",
   "execution_count": 8,
   "metadata": {},
   "outputs": [],
   "source": [
    "cv = CountVectorizer() \n",
    "word_count_vector = cv.fit_transform(data['text_tokens'])\n",
    "tfidf_transformer = TfidfTransformer(smooth_idf=True,use_idf=True) \n",
    "tfidf_transformer.fit(word_count_vector)\n",
    "\n",
    "count_vector = cv.transform(data['text_tokens']) \n",
    "tf_idf_vector = tfidf_transformer.transform(count_vector)\n",
    "feature_names = cv.get_feature_names()"
   ]
  },
  {
   "cell_type": "code",
   "execution_count": 9,
   "metadata": {},
   "outputs": [],
   "source": [
    "tfidf_vectors = list()\n",
    "for i in data.index:\n",
    "    doc_vec = tf_idf_vector[i]\n",
    "    df = pd.DataFrame(doc_vec.T.todense(), index=feature_names, columns=[\"tfidf\"])\n",
    "    \n",
    "    tfidf_vec = list()\n",
    "    for w in data['text_tokens'][i].split():\n",
    "        try:\n",
    "            tfidf_vec.append(df.loc[w]['tfidf'])\n",
    "        except KeyError:\n",
    "            tfidf_vec.append(0)\n",
    "    \n",
    "    tfidf_vectors.append(tfidf_vec)\n",
    "\n",
    "data['tfidf_vectors'] = np.array(tfidf_vectors)"
   ]
  },
  {
   "cell_type": "code",
   "execution_count": 20,
   "metadata": {},
   "outputs": [],
   "source": [
    "path = 'navec_news_v1_1B_250K_300d_100q.tar'\n",
    "navec = Navec.load(path)"
   ]
  },
  {
   "cell_type": "code",
   "execution_count": 17,
   "metadata": {},
   "outputs": [],
   "source": [
    "def get_emb(row, tfidf):\n",
    "    embds = list()\n",
    "    if row is not None:\n",
    "        for i, word in enumerate(row.split()):\n",
    "            word = word.replace('ё', 'е')\n",
    "            if word in navec:\n",
    "                embds.append(navec[word] * tfidf[i])\n",
    "    \n",
    "    embds = np.array(embds)\n",
    "\n",
    "    if len(embds):\n",
    "        return embds.mean(axis=0)\n",
    "    else:\n",
    "        return np.zeros((300))"
   ]
  },
  {
   "cell_type": "code",
   "execution_count": 18,
   "metadata": {},
   "outputs": [],
   "source": [
    "def str_list(text):\n",
    "    return list(map(float, text[1:-1].split(', ')))"
   ]
  },
  {
   "cell_type": "code",
   "execution_count": 13,
   "metadata": {},
   "outputs": [],
   "source": [
    "data['tfidf_vectors'] = data['tfidf_vectors'].apply(str_list)"
   ]
  },
  {
   "cell_type": "code",
   "execution_count": 15,
   "metadata": {},
   "outputs": [],
   "source": [
    "data['text_vectors'] = data.apply(lambda x: get_emb(x['text_tokens'], x['tfidf_vectors']), axis=1) "
   ]
  },
  {
   "cell_type": "code",
   "execution_count": 16,
   "metadata": {},
   "outputs": [],
   "source": [
    "pca = PCA(n_components=50)\n",
    "pca.fit(torch.tensor(data['text_vectors']))\n",
    "reduced_vectors = pca.transform(torch.tensor(data['text_vectors']))"
   ]
  },
  {
   "cell_type": "code",
   "execution_count": 17,
   "metadata": {},
   "outputs": [
    {
     "ename": "",
     "evalue": "",
     "output_type": "error",
     "traceback": [
      "\u001b[1;31mCanceled future for execute_request message before replies were done"
     ]
    },
    {
     "ename": "",
     "evalue": "",
     "output_type": "error",
     "traceback": [
      "\u001b[1;31mThe Kernel crashed while executing code in the the current cell or a previous cell. Please review the code in the cell(s) to identify a possible cause of the failure. Click <a href='https://aka.ms/vscodeJupyterKernelCrash'>here</a> for more info. View Jupyter <a href='command:jupyter.viewOutput'>log</a> for further details."
     ]
    }
   ],
   "source": [
    "aggcluster = AgglomerativeClustering(n_clusters=20)\n",
    "clusters_aggl_pca = aggcluster.fit_predict(torch.tensor(reduced_vectors))\n",
    "data['clusters'] = clusters_aggl_pca"
   ]
  },
  {
   "cell_type": "code",
   "execution_count": 7,
   "metadata": {},
   "outputs": [
    {
     "data": {
      "text/html": [
       "<div>\n",
       "<style scoped>\n",
       "    .dataframe tbody tr th:only-of-type {\n",
       "        vertical-align: middle;\n",
       "    }\n",
       "\n",
       "    .dataframe tbody tr th {\n",
       "        vertical-align: top;\n",
       "    }\n",
       "\n",
       "    .dataframe thead th {\n",
       "        text-align: right;\n",
       "    }\n",
       "</style>\n",
       "<table border=\"1\" class=\"dataframe\">\n",
       "  <thead>\n",
       "    <tr style=\"text-align: right;\">\n",
       "      <th></th>\n",
       "      <th>title</th>\n",
       "      <th>clusters</th>\n",
       "    </tr>\n",
       "  </thead>\n",
       "  <tbody>\n",
       "    <tr>\n",
       "      <th>0</th>\n",
       "      <td>Повышение лимитов для УСН, упрощенные правила ...</td>\n",
       "      <td>17</td>\n",
       "    </tr>\n",
       "    <tr>\n",
       "      <th>1</th>\n",
       "      <td>Единый семинар 1С для бухгалтеров и руководите...</td>\n",
       "      <td>20</td>\n",
       "    </tr>\n",
       "    <tr>\n",
       "      <th>2</th>\n",
       "      <td>Работодателей обязали сдавать СЗВ-ТД при приос...</td>\n",
       "      <td>22</td>\n",
       "    </tr>\n",
       "    <tr>\n",
       "      <th>3</th>\n",
       "      <td>Вправе ли работодатель отправлять форму СТД-Р ...</td>\n",
       "      <td>20</td>\n",
       "    </tr>\n",
       "    <tr>\n",
       "      <th>4</th>\n",
       "      <td>Опубликована видеозапись лекции об использован...</td>\n",
       "      <td>20</td>\n",
       "    </tr>\n",
       "    <tr>\n",
       "      <th>...</th>\n",
       "      <td>...</td>\n",
       "      <td>...</td>\n",
       "    </tr>\n",
       "    <tr>\n",
       "      <th>12235</th>\n",
       "      <td>Замена валюте: инвесторы наращивают объем торг...</td>\n",
       "      <td>14</td>\n",
       "    </tr>\n",
       "    <tr>\n",
       "      <th>12236</th>\n",
       "      <td>Обзор рынков от Банки.ру: доллар может уйти в ...</td>\n",
       "      <td>14</td>\n",
       "    </tr>\n",
       "    <tr>\n",
       "      <th>12237</th>\n",
       "      <td>Эксперт объяснил, что будет с долларом и евро ...</td>\n",
       "      <td>14</td>\n",
       "    </tr>\n",
       "    <tr>\n",
       "      <th>12238</th>\n",
       "      <td>Несмотря на ставки. Россияне несут деньги в ба...</td>\n",
       "      <td>14</td>\n",
       "    </tr>\n",
       "    <tr>\n",
       "      <th>12239</th>\n",
       "      <td>Проблема ВТБ на 1,8 млрд долларов и что будет ...</td>\n",
       "      <td>17</td>\n",
       "    </tr>\n",
       "  </tbody>\n",
       "</table>\n",
       "<p>12240 rows × 2 columns</p>\n",
       "</div>"
      ],
      "text/plain": [
       "                                                   title  clusters\n",
       "0      Повышение лимитов для УСН, упрощенные правила ...        17\n",
       "1      Единый семинар 1С для бухгалтеров и руководите...        20\n",
       "2      Работодателей обязали сдавать СЗВ-ТД при приос...        22\n",
       "3      Вправе ли работодатель отправлять форму СТД-Р ...        20\n",
       "4      Опубликована видеозапись лекции об использован...        20\n",
       "...                                                  ...       ...\n",
       "12235  Замена валюте: инвесторы наращивают объем торг...        14\n",
       "12236  Обзор рынков от Банки.ру: доллар может уйти в ...        14\n",
       "12237  Эксперт объяснил, что будет с долларом и евро ...        14\n",
       "12238  Несмотря на ставки. Россияне несут деньги в ба...        14\n",
       "12239  Проблема ВТБ на 1,8 млрд долларов и что будет ...        17\n",
       "\n",
       "[12240 rows x 2 columns]"
      ]
     },
     "execution_count": 7,
     "metadata": {},
     "output_type": "execute_result"
    }
   ],
   "source": [
    "data = pd.read_csv('data.csv')\n",
    "data[['title', 'clusters']]"
   ]
  },
  {
   "cell_type": "code",
   "execution_count": 8,
   "metadata": {},
   "outputs": [],
   "source": [
    "with open('buh.txt', 'r') as f:\n",
    "    buh_keywords = f.readline()\n"
   ]
  },
  {
   "cell_type": "code",
   "execution_count": 9,
   "metadata": {},
   "outputs": [],
   "source": [
    "with open('gendir.txt', 'r') as f:\n",
    "    gen_dir = f.readline()"
   ]
  },
  {
   "cell_type": "code",
   "execution_count": 10,
   "metadata": {},
   "outputs": [],
   "source": [
    "import pickle\n",
    "\n",
    "with open(\"pca_reduce\", 'rb') as f:\n",
    "    pca = pickle.load(f)"
   ]
  },
  {
   "cell_type": "code",
   "execution_count": 21,
   "metadata": {},
   "outputs": [],
   "source": [
    "clean_buh = preprocessing_name(buh_keywords)\n",
    "vector_buh = get_emb(clean_buh, tfidf=np.ones(len(clean_buh.split())))\n",
    "reduces_buh = pca.transform([vector_buh])"
   ]
  },
  {
   "cell_type": "code",
   "execution_count": 63,
   "metadata": {},
   "outputs": [
    {
     "data": {
      "text/plain": [
       "[[0.35427126439110423,\n",
       "  1.4234676268248796,\n",
       "  -0.30443778124814413,\n",
       "  0.10850139430647113,\n",
       "  0.29460299295374676]]"
      ]
     },
     "execution_count": 63,
     "metadata": {},
     "output_type": "execute_result"
    }
   ],
   "source": [
    "reduces_buh.tolist()"
   ]
  },
  {
   "cell_type": "code",
   "execution_count": 65,
   "metadata": {},
   "outputs": [],
   "source": [
    "with open(\"vector_buh\", \"wb\") as f:\n",
    "    pickle.dump(reduces_buh, f)\n",
    "with open(\"vector_gen\", \"wb\") as f:\n",
    "    pickle.dump(reduces_gen, f)"
   ]
  },
  {
   "cell_type": "code",
   "execution_count": 22,
   "metadata": {},
   "outputs": [],
   "source": [
    "clean_gen = preprocessing_name(gen_dir)\n",
    "vector_gen = get_emb(clean_gen, tfidf=np.ones(len(clean_gen.split())))\n",
    "reduces_gen = pca.transform([vector_gen])"
   ]
  },
  {
   "cell_type": "code",
   "execution_count": 25,
   "metadata": {},
   "outputs": [],
   "source": [
    "with open(\"reduced_vect\", 'rb') as f:\n",
    "    reduced_vectors = pickle.load(f)"
   ]
  },
  {
   "cell_type": "code",
   "execution_count": 26,
   "metadata": {},
   "outputs": [],
   "source": [
    "clusters_aggl_pca = data['clusters']"
   ]
  },
  {
   "cell_type": "code",
   "execution_count": 27,
   "metadata": {},
   "outputs": [],
   "source": [
    "clf = NearestCentroid()\n",
    "clf.fit(reduced_vectors, clusters_aggl_pca)\n",
    "centroids = clf.centroids_"
   ]
  },
  {
   "cell_type": "code",
   "execution_count": 70,
   "metadata": {},
   "outputs": [
    {
     "data": {
      "text/plain": [
       "0        17\n",
       "1        20\n",
       "2        22\n",
       "3        20\n",
       "4        20\n",
       "         ..\n",
       "12235    14\n",
       "12236    14\n",
       "12237    14\n",
       "12238    14\n",
       "12239    17\n",
       "Name: clusters, Length: 12240, dtype: int64"
      ]
     },
     "execution_count": 70,
     "metadata": {},
     "output_type": "execute_result"
    }
   ],
   "source": [
    "with open(\"clusters\", 'wb') as f:\n",
    "    pickle.dump(clusters_aggl_pca, f)\n",
    "clusters_aggl_pca"
   ]
  },
  {
   "cell_type": "code",
   "execution_count": 71,
   "metadata": {},
   "outputs": [
    {
     "data": {
      "text/html": [
       "<div>\n",
       "<style scoped>\n",
       "    .dataframe tbody tr th:only-of-type {\n",
       "        vertical-align: middle;\n",
       "    }\n",
       "\n",
       "    .dataframe tbody tr th {\n",
       "        vertical-align: top;\n",
       "    }\n",
       "\n",
       "    .dataframe thead th {\n",
       "        text-align: right;\n",
       "    }\n",
       "</style>\n",
       "<table border=\"1\" class=\"dataframe\">\n",
       "  <thead>\n",
       "    <tr style=\"text-align: right;\">\n",
       "      <th></th>\n",
       "      <th>title</th>\n",
       "      <th>date</th>\n",
       "      <th>content</th>\n",
       "      <th>num_views</th>\n",
       "      <th>num_comments</th>\n",
       "      <th>tags</th>\n",
       "      <th>url</th>\n",
       "      <th>title_tokens</th>\n",
       "      <th>tags_tokens</th>\n",
       "      <th>content_tokens</th>\n",
       "      <th>text_tokens</th>\n",
       "      <th>tfidf_vectors</th>\n",
       "      <th>text_vectors</th>\n",
       "      <th>clusters</th>\n",
       "    </tr>\n",
       "  </thead>\n",
       "  <tbody>\n",
       "    <tr>\n",
       "      <th>0</th>\n",
       "      <td>Повышение лимитов для УСН, упрощенные правила ...</td>\n",
       "      <td>07.10.2022</td>\n",
       "      <td>Редакция БУХ.1С напоминает о самых позитивных ...</td>\n",
       "      <td>1549</td>\n",
       "      <td>0</td>\n",
       "      <td>проверки бизнеса;лицензирование;предельные дох...</td>\n",
       "      <td>NaN</td>\n",
       "      <td>повышение лимит усн упрощённый правило алкогол...</td>\n",
       "      <td>проверка бизнес лицензирование предельный дохо...</td>\n",
       "      <td>редакция бух напоминать самый позитивный бухга...</td>\n",
       "      <td>повышение лимит усн упрощённый правило алкогол...</td>\n",
       "      <td>[0.034183826452033654, 0.049865348984263126, 0...</td>\n",
       "      <td>[-9.08896234e-03 -9.75437928e-03  8.12493323e-...</td>\n",
       "      <td>17</td>\n",
       "    </tr>\n",
       "    <tr>\n",
       "      <th>1</th>\n",
       "      <td>Единый семинар 1С для бухгалтеров и руководите...</td>\n",
       "      <td>07.10.2022</td>\n",
       "      <td>12 октября 2022 в 10:00 по местному времени фи...</td>\n",
       "      <td>5098</td>\n",
       "      <td>0</td>\n",
       "      <td>Единый семинар;семинар по бухучету и налогообл...</td>\n",
       "      <td>NaN</td>\n",
       "      <td>единый семинар бухгалтер руководитель пройти о...</td>\n",
       "      <td>единый семинар семинар бухучёт налогообложение...</td>\n",
       "      <td>октябрь местный время фирма проводить единый с...</td>\n",
       "      <td>единый семинар бухгалтер руководитель пройти о...</td>\n",
       "      <td>[0.20564659740162877, 0.6527226913014548, 0.22...</td>\n",
       "      <td>[ 0.00717525 -0.02597658 -0.01977311  0.009604...</td>\n",
       "      <td>20</td>\n",
       "    </tr>\n",
       "    <tr>\n",
       "      <th>2</th>\n",
       "      <td>Работодателей обязали сдавать СЗВ-ТД при приос...</td>\n",
       "      <td>07.10.2022</td>\n",
       "      <td>С 7 октября 2022 года вступили в силу поправки...</td>\n",
       "      <td>1726</td>\n",
       "      <td>1</td>\n",
       "      <td>СЗВ-ТД;мобилизация;трудовой договор;отчетность...</td>\n",
       "      <td>NaN</td>\n",
       "      <td>работодатель обязать сдавать сзв-тд приостанов...</td>\n",
       "      <td>сзв-тд мобилизация трудовой договор отчётность...</td>\n",
       "      <td>октябрь год вступить сила поправка закон персо...</td>\n",
       "      <td>работодатель обязать сдавать сзв-тд приостанов...</td>\n",
       "      <td>[0.08164188435189614, 0.04329531247874227, 0.0...</td>\n",
       "      <td>[-0.00987843 -0.01810046 -0.00253365 -0.002707...</td>\n",
       "      <td>22</td>\n",
       "    </tr>\n",
       "    <tr>\n",
       "      <th>3</th>\n",
       "      <td>Вправе ли работодатель отправлять форму СТД-Р ...</td>\n",
       "      <td>07.10.2022</td>\n",
       "      <td>Эксперты Роструда разъяснили, вправе ли работо...</td>\n",
       "      <td>834</td>\n",
       "      <td>0</td>\n",
       "      <td>увольнение по инициативе сотрудника;СТД-Р;прав...</td>\n",
       "      <td>NaN</td>\n",
       "      <td>вправе работодатель отправлять форма стд-р уво...</td>\n",
       "      <td>увольнение инициатива сотрудник стд-р право ра...</td>\n",
       "      <td>эксперт роструд разъяснить вправе работодатель...</td>\n",
       "      <td>вправе работодатель отправлять форма стд-р уво...</td>\n",
       "      <td>[0.17602018810066877, 0.1948469657385272, 0.06...</td>\n",
       "      <td>[ 8.92193802e-03 -1.39221698e-02  9.15071089e-...</td>\n",
       "      <td>20</td>\n",
       "    </tr>\n",
       "    <tr>\n",
       "      <th>4</th>\n",
       "      <td>Опубликована видеозапись лекции об использован...</td>\n",
       "      <td>07.10.2022</td>\n",
       "      <td>На странице 1С:Лектория опубликована видеозапи...</td>\n",
       "      <td>781</td>\n",
       "      <td>0</td>\n",
       "      <td>1С:Лекторий;1С:Предприятие 8;СЭДО;пособия;1С:З...</td>\n",
       "      <td>NaN</td>\n",
       "      <td>опубликовать видеозапись лекция использование ...</td>\n",
       "      <td>лекторий предприятие сэдый пособие зарплата уп...</td>\n",
       "      <td>страница лекторий опубликовать видеозапись лек...</td>\n",
       "      <td>опубликовать видеозапись лекция использование ...</td>\n",
       "      <td>[0.13143021901449714, 0.25992047771525134, 0.3...</td>\n",
       "      <td>[ 0.03399515 -0.02355277 -0.01062908 -0.033326...</td>\n",
       "      <td>20</td>\n",
       "    </tr>\n",
       "    <tr>\n",
       "      <th>...</th>\n",
       "      <td>...</td>\n",
       "      <td>...</td>\n",
       "      <td>...</td>\n",
       "      <td>...</td>\n",
       "      <td>...</td>\n",
       "      <td>...</td>\n",
       "      <td>...</td>\n",
       "      <td>...</td>\n",
       "      <td>...</td>\n",
       "      <td>...</td>\n",
       "      <td>...</td>\n",
       "      <td>...</td>\n",
       "      <td>...</td>\n",
       "      <td>...</td>\n",
       "    </tr>\n",
       "    <tr>\n",
       "      <th>12235</th>\n",
       "      <td>Замена валюте: инвесторы наращивают объем торг...</td>\n",
       "      <td>03.08.2022</td>\n",
       "      <td>По итогам июля объем торгов драгоценными метал...</td>\n",
       "      <td>1287</td>\n",
       "      <td>0</td>\n",
       "      <td>NaN</td>\n",
       "      <td>https://www.banki.ru/news/lenta/?id=10970142</td>\n",
       "      <td>замена валюта инвестор наращивать объём торг з...</td>\n",
       "      <td>NaN</td>\n",
       "      <td>итог июль объём торг драгоценный металл москов...</td>\n",
       "      <td>замена валюта инвестор наращивать объём торг з...</td>\n",
       "      <td>[0.054376429322576886, 0.09689863926813268, 0....</td>\n",
       "      <td>[-1.17929131e-02 -9.12638754e-03 -1.58270448e-...</td>\n",
       "      <td>14</td>\n",
       "    </tr>\n",
       "    <tr>\n",
       "      <th>12236</th>\n",
       "      <td>Обзор рынков от Банки.ру: доллар может уйти в ...</td>\n",
       "      <td>03.08.2022</td>\n",
       "      <td>Российский рынок акций может попытаться сегодн...</td>\n",
       "      <td>1556</td>\n",
       "      <td>0</td>\n",
       "      <td>NaN</td>\n",
       "      <td>https://www.banki.ru/news/lenta/?id=10970140</td>\n",
       "      <td>обзор рынок банк доллар мочь уйти ход сессия н...</td>\n",
       "      <td>NaN</td>\n",
       "      <td>российский рынок акция мочь попытаться сегодня...</td>\n",
       "      <td>обзор рынок банк доллар мочь уйти ход сессия н...</td>\n",
       "      <td>[0.037877294787606486, 0.2199232684245734, 0.0...</td>\n",
       "      <td>[-1.56688672e-02  1.16692239e-03 -1.10665299e-...</td>\n",
       "      <td>14</td>\n",
       "    </tr>\n",
       "    <tr>\n",
       "      <th>12237</th>\n",
       "      <td>Эксперт объяснил, что будет с долларом и евро ...</td>\n",
       "      <td>03.08.2022</td>\n",
       "      <td>В случае отмены биржевых торгов, которая возмо...</td>\n",
       "      <td>18816</td>\n",
       "      <td>0</td>\n",
       "      <td>NaN</td>\n",
       "      <td>https://www.banki.ru/news/lenta/?id=10970139</td>\n",
       "      <td>эксперт объяснить доллар евро отмена биржевой ...</td>\n",
       "      <td>NaN</td>\n",
       "      <td>случай отмена биржевой торг который возможный ...</td>\n",
       "      <td>эксперт объяснить доллар евро отмена биржевой ...</td>\n",
       "      <td>[0.09441118764664563, 0.041536799207628025, 0....</td>\n",
       "      <td>[-1.30954683e-02  5.50444797e-03  1.32974787e-...</td>\n",
       "      <td>14</td>\n",
       "    </tr>\n",
       "    <tr>\n",
       "      <th>12238</th>\n",
       "      <td>Несмотря на ставки. Россияне несут деньги в ба...</td>\n",
       "      <td>03.08.2022</td>\n",
       "      <td>Объем наличных в обращении вновь сокращается п...</td>\n",
       "      <td>8249</td>\n",
       "      <td>5</td>\n",
       "      <td>NaN</td>\n",
       "      <td>https://www.banki.ru/news/lenta/?id=10970138</td>\n",
       "      <td>несмотря ставка россиянин нести деньга банк об...</td>\n",
       "      <td>NaN</td>\n",
       "      <td>объём наличный обращение вновь сокращаться рос...</td>\n",
       "      <td>несмотря ставка россиянин нести деньга банк об...</td>\n",
       "      <td>[0.13772481303050096, 0.17380796913164226, 0.1...</td>\n",
       "      <td>[-3.66146825e-02 -1.79952569e-02  3.02364631e-...</td>\n",
       "      <td>14</td>\n",
       "    </tr>\n",
       "    <tr>\n",
       "      <th>12239</th>\n",
       "      <td>Проблема ВТБ на 1,8 млрд долларов и что будет ...</td>\n",
       "      <td>03.08.2022</td>\n",
       "      <td>📰 Финансовые результаты российских банков пока...</td>\n",
       "      <td>6487</td>\n",
       "      <td>1</td>\n",
       "      <td>NaN</td>\n",
       "      <td>https://www.banki.ru/news/lenta/?id=10970137</td>\n",
       "      <td>проблема втб млрд доллар рынок труд обзор прес...</td>\n",
       "      <td>NaN</td>\n",
       "      <td>финансовый результат российский банк показать ...</td>\n",
       "      <td>проблема втб млрд доллар рынок труд обзор прес...</td>\n",
       "      <td>[0.026410370877458466, 0.11000989294420377, 0....</td>\n",
       "      <td>[-8.47387314e-03 -6.19986979e-03  4.64288139e-...</td>\n",
       "      <td>17</td>\n",
       "    </tr>\n",
       "  </tbody>\n",
       "</table>\n",
       "<p>12240 rows × 14 columns</p>\n",
       "</div>"
      ],
      "text/plain": [
       "                                                   title        date  \\\n",
       "0      Повышение лимитов для УСН, упрощенные правила ...  07.10.2022   \n",
       "1      Единый семинар 1С для бухгалтеров и руководите...  07.10.2022   \n",
       "2      Работодателей обязали сдавать СЗВ-ТД при приос...  07.10.2022   \n",
       "3      Вправе ли работодатель отправлять форму СТД-Р ...  07.10.2022   \n",
       "4      Опубликована видеозапись лекции об использован...  07.10.2022   \n",
       "...                                                  ...         ...   \n",
       "12235  Замена валюте: инвесторы наращивают объем торг...  03.08.2022   \n",
       "12236  Обзор рынков от Банки.ру: доллар может уйти в ...  03.08.2022   \n",
       "12237  Эксперт объяснил, что будет с долларом и евро ...  03.08.2022   \n",
       "12238  Несмотря на ставки. Россияне несут деньги в ба...  03.08.2022   \n",
       "12239  Проблема ВТБ на 1,8 млрд долларов и что будет ...  03.08.2022   \n",
       "\n",
       "                                                 content  num_views  \\\n",
       "0      Редакция БУХ.1С напоминает о самых позитивных ...       1549   \n",
       "1      12 октября 2022 в 10:00 по местному времени фи...       5098   \n",
       "2      С 7 октября 2022 года вступили в силу поправки...       1726   \n",
       "3      Эксперты Роструда разъяснили, вправе ли работо...        834   \n",
       "4      На странице 1С:Лектория опубликована видеозапи...        781   \n",
       "...                                                  ...        ...   \n",
       "12235  По итогам июля объем торгов драгоценными метал...       1287   \n",
       "12236  Российский рынок акций может попытаться сегодн...       1556   \n",
       "12237  В случае отмены биржевых торгов, которая возмо...      18816   \n",
       "12238  Объем наличных в обращении вновь сокращается п...       8249   \n",
       "12239  📰 Финансовые результаты российских банков пока...       6487   \n",
       "\n",
       "       num_comments                                               tags  \\\n",
       "0                 0  проверки бизнеса;лицензирование;предельные дох...   \n",
       "1                 0  Единый семинар;семинар по бухучету и налогообл...   \n",
       "2                 1  СЗВ-ТД;мобилизация;трудовой договор;отчетность...   \n",
       "3                 0  увольнение по инициативе сотрудника;СТД-Р;прав...   \n",
       "4                 0  1С:Лекторий;1С:Предприятие 8;СЭДО;пособия;1С:З...   \n",
       "...             ...                                                ...   \n",
       "12235             0                                                NaN   \n",
       "12236             0                                                NaN   \n",
       "12237             0                                                NaN   \n",
       "12238             5                                                NaN   \n",
       "12239             1                                                NaN   \n",
       "\n",
       "                                                url  \\\n",
       "0                                               NaN   \n",
       "1                                               NaN   \n",
       "2                                               NaN   \n",
       "3                                               NaN   \n",
       "4                                               NaN   \n",
       "...                                             ...   \n",
       "12235  https://www.banki.ru/news/lenta/?id=10970142   \n",
       "12236  https://www.banki.ru/news/lenta/?id=10970140   \n",
       "12237  https://www.banki.ru/news/lenta/?id=10970139   \n",
       "12238  https://www.banki.ru/news/lenta/?id=10970138   \n",
       "12239  https://www.banki.ru/news/lenta/?id=10970137   \n",
       "\n",
       "                                            title_tokens  \\\n",
       "0      повышение лимит усн упрощённый правило алкогол...   \n",
       "1      единый семинар бухгалтер руководитель пройти о...   \n",
       "2      работодатель обязать сдавать сзв-тд приостанов...   \n",
       "3      вправе работодатель отправлять форма стд-р уво...   \n",
       "4      опубликовать видеозапись лекция использование ...   \n",
       "...                                                  ...   \n",
       "12235  замена валюта инвестор наращивать объём торг з...   \n",
       "12236  обзор рынок банк доллар мочь уйти ход сессия н...   \n",
       "12237  эксперт объяснить доллар евро отмена биржевой ...   \n",
       "12238  несмотря ставка россиянин нести деньга банк об...   \n",
       "12239  проблема втб млрд доллар рынок труд обзор прес...   \n",
       "\n",
       "                                             tags_tokens  \\\n",
       "0      проверка бизнес лицензирование предельный дохо...   \n",
       "1      единый семинар семинар бухучёт налогообложение...   \n",
       "2      сзв-тд мобилизация трудовой договор отчётность...   \n",
       "3      увольнение инициатива сотрудник стд-р право ра...   \n",
       "4      лекторий предприятие сэдый пособие зарплата уп...   \n",
       "...                                                  ...   \n",
       "12235                                                NaN   \n",
       "12236                                                NaN   \n",
       "12237                                                NaN   \n",
       "12238                                                NaN   \n",
       "12239                                                NaN   \n",
       "\n",
       "                                          content_tokens  \\\n",
       "0      редакция бух напоминать самый позитивный бухга...   \n",
       "1      октябрь местный время фирма проводить единый с...   \n",
       "2      октябрь год вступить сила поправка закон персо...   \n",
       "3      эксперт роструд разъяснить вправе работодатель...   \n",
       "4      страница лекторий опубликовать видеозапись лек...   \n",
       "...                                                  ...   \n",
       "12235  итог июль объём торг драгоценный металл москов...   \n",
       "12236  российский рынок акция мочь попытаться сегодня...   \n",
       "12237  случай отмена биржевой торг который возможный ...   \n",
       "12238  объём наличный обращение вновь сокращаться рос...   \n",
       "12239  финансовый результат российский банк показать ...   \n",
       "\n",
       "                                             text_tokens  \\\n",
       "0      повышение лимит усн упрощённый правило алкогол...   \n",
       "1      единый семинар бухгалтер руководитель пройти о...   \n",
       "2      работодатель обязать сдавать сзв-тд приостанов...   \n",
       "3      вправе работодатель отправлять форма стд-р уво...   \n",
       "4      опубликовать видеозапись лекция использование ...   \n",
       "...                                                  ...   \n",
       "12235  замена валюта инвестор наращивать объём торг з...   \n",
       "12236  обзор рынок банк доллар мочь уйти ход сессия н...   \n",
       "12237  эксперт объяснить доллар евро отмена биржевой ...   \n",
       "12238  несмотря ставка россиянин нести деньга банк об...   \n",
       "12239  проблема втб млрд доллар рынок труд обзор прес...   \n",
       "\n",
       "                                           tfidf_vectors  \\\n",
       "0      [0.034183826452033654, 0.049865348984263126, 0...   \n",
       "1      [0.20564659740162877, 0.6527226913014548, 0.22...   \n",
       "2      [0.08164188435189614, 0.04329531247874227, 0.0...   \n",
       "3      [0.17602018810066877, 0.1948469657385272, 0.06...   \n",
       "4      [0.13143021901449714, 0.25992047771525134, 0.3...   \n",
       "...                                                  ...   \n",
       "12235  [0.054376429322576886, 0.09689863926813268, 0....   \n",
       "12236  [0.037877294787606486, 0.2199232684245734, 0.0...   \n",
       "12237  [0.09441118764664563, 0.041536799207628025, 0....   \n",
       "12238  [0.13772481303050096, 0.17380796913164226, 0.1...   \n",
       "12239  [0.026410370877458466, 0.11000989294420377, 0....   \n",
       "\n",
       "                                            text_vectors  clusters  \n",
       "0      [-9.08896234e-03 -9.75437928e-03  8.12493323e-...        17  \n",
       "1      [ 0.00717525 -0.02597658 -0.01977311  0.009604...        20  \n",
       "2      [-0.00987843 -0.01810046 -0.00253365 -0.002707...        22  \n",
       "3      [ 8.92193802e-03 -1.39221698e-02  9.15071089e-...        20  \n",
       "4      [ 0.03399515 -0.02355277 -0.01062908 -0.033326...        20  \n",
       "...                                                  ...       ...  \n",
       "12235  [-1.17929131e-02 -9.12638754e-03 -1.58270448e-...        14  \n",
       "12236  [-1.56688672e-02  1.16692239e-03 -1.10665299e-...        14  \n",
       "12237  [-1.30954683e-02  5.50444797e-03  1.32974787e-...        14  \n",
       "12238  [-3.66146825e-02 -1.79952569e-02  3.02364631e-...        14  \n",
       "12239  [-8.47387314e-03 -6.19986979e-03  4.64288139e-...        17  \n",
       "\n",
       "[12240 rows x 14 columns]"
      ]
     },
     "execution_count": 71,
     "metadata": {},
     "output_type": "execute_result"
    }
   ],
   "source": [
    "data"
   ]
  },
  {
   "cell_type": "code",
   "execution_count": 28,
   "metadata": {},
   "outputs": [],
   "source": [
    "buh_clust = np.argmax(np.array([cosine_similarity([centroids[i]], reduces_buh) for i in range(20)]))"
   ]
  },
  {
   "cell_type": "code",
   "execution_count": 29,
   "metadata": {},
   "outputs": [
    {
     "data": {
      "text/plain": [
       "7"
      ]
     },
     "execution_count": 29,
     "metadata": {},
     "output_type": "execute_result"
    }
   ],
   "source": [
    "buh_clust"
   ]
  },
  {
   "cell_type": "code",
   "execution_count": 30,
   "metadata": {},
   "outputs": [],
   "source": [
    "gen_clust = np.argmax(np.array([cosine_similarity([centroids[i]], reduces_gen) for i in range(20)]))"
   ]
  },
  {
   "cell_type": "code",
   "execution_count": 31,
   "metadata": {},
   "outputs": [
    {
     "data": {
      "text/plain": [
       "2"
      ]
     },
     "execution_count": 31,
     "metadata": {},
     "output_type": "execute_result"
    }
   ],
   "source": [
    "gen_clust"
   ]
  },
  {
   "cell_type": "code",
   "execution_count": 57,
   "metadata": {},
   "outputs": [
    {
     "data": {
      "text/plain": [
       "8712     Официальный курс доллара поднялся на 1 рубль,...\n",
       "8819     Официальный курс доллара вырос на 6 рублей 51...\n",
       "8878     Официальный курс доллара понизился на 3,38 ру...\n",
       "8999     Официальный курс доллара повысился более чем ...\n",
       "9056     Официальный курс доллара снизился на 1,81 руб...\n",
       "9120     Биржевой курс доллара дошел до 110 рублей, кур...\n",
       "9124     Официальный курс доллара повысился на 11,5 ру...\n",
       "9179     Официальный курс доллара вырос на 8,51 рубля,...\n",
       "9228     Официальный курс доллара понизился на 5,94 ру...\n",
       "9269     Официальный курс доллара не изменился, евро —...\n",
       "9422     Официальный курс доллара повысился на 10,27 р...\n",
       "9455     Официальный курс доллара вырос на 4,29 рубля,...\n",
       "9516     Официальный курс доллара понизился на 3,63 ру...\n",
       "9620     Официальный курс доллара снизился на 1,56 руб...\n",
       "9663     Официальный курс доллара снизился на 3,71 руб...\n",
       "9717     Официальный курс доллара снизился на 3,43 руб...\n",
       "9770     Официальный курс доллара снизился на 3,25 руб...\n",
       "10141    ЦБ установил официальные курсы валют на 1 октября\n",
       "10189    ЦБ установил официальные курсы валют на 30 сен...\n",
       "10240    ЦБ установил официальные курсы валют на 29 сен...\n",
       "Name: title, dtype: object"
      ]
     },
     "execution_count": 57,
     "metadata": {},
     "output_type": "execute_result"
    }
   ],
   "source": [
    "data[clusters_aggl_pca == 1].title.head(20)"
   ]
  },
  {
   "cell_type": "code",
   "execution_count": 37,
   "metadata": {},
   "outputs": [],
   "source": [
    "def get_recom(target: int, role_vector: np.array, place: int):\n",
    "    rating = np.argsort(cosine_similarity(reduced_vectors[clusters_aggl_pca == target], role_vector).reshape(-1))\n",
    "    rang = np.arange(len(rating))\n",
    "    d = data.iloc[rang[rating == place][0]]\n",
    "    print(f\"title:\\n{d.title}\")\n",
    "    print(f\"content:\\n{d.content}\")"
   ]
  },
  {
   "cell_type": "code",
   "execution_count": 38,
   "metadata": {},
   "outputs": [
    {
     "name": "stdout",
     "output_type": "stream",
     "text": [
      "title:\n",
      "Отсрочка от мобилизации, больничные для самозанятых и рост налогов, маткапитала и пособий в 2023 году - все новости прошедшей недели за 5 минут (26.09-02.10.2022)\n",
      "content:\n",
      "Власти запустили на Госуслугах сервис по подаче заявлений на предоставление отсрочки от мобилизации. Минфин объяснил, как изменятся налоги в 2023 году. Минтруд определил условия и параметры оплаты больничных самозанятым. Рассказываем о главных новостях прошедшей недели. Будьте в курсе событий в стране.\n",
      "\n",
      "\n",
      "В 2023 году бюджету потребуются дополнительные источники доходов. Но дополнительное налогообложение коснется только экспортеров, а налоги для граждан меняться не будут.\n",
      "С 1 февраля 2023 года будут увеличены максимальные и минимальные суммы пособий по временной нетрудоспособности и в связи с материнством. Единовременное пособие при рождении ребенка будет повышено до 23 011 рублей. Максимальная выплата по больничному составит в 2023 году: 83 204 рубля в месяц для граждан со страховым стажем 8 и более лет; 66 564 рубля в месяц при стаже от 5 до 8 лет; 49 923 рубля в месяц при стаже до 5 лет. При этом максимальная сумма пособия по беременности и родам составит 83 204 рубля в месяц. Таким образом, выплата за отпуск по беременности и родам при нормальном течении беременности (отпуск в 140 дней) составит 383 179 рублей. Максимальное ежемесячное пособие по уходу за ребенком для работников составит в 2023 году 33 282 рубля, минимальный размер – 8 630 рублей.\n",
      "В 2023 году материнский капитал будет проиндексирован по уровню фактической инфляции. Проектом бюджета предусмотрена индексация, с учетом которой материнский капитал на первого ребенка будет увеличен на 65 тыс. рублей и составит 589,5 тысяч рублей, на второго ребенка – на 85,9 тыс. рублей и составит 779 тысяч рублей. Всего в 2023 году на выплату материнского капитала планируется направить более 550 млрд рублей.\n",
      "\n",
      "Какие сферы регулирования вызывают у вас основные трудности при соблюдении требований законодательства?\n",
      "\n",
      "\n",
      "Госдума одобрила поправки в ТК РФ, которые закрепляют дополнительные трудовые гарантии для работников, призванных на военную службу по мобилизации, а также пребывающих в запасе и заключивших контракт о прохождении военной службы. Таких работников нельзя увольнять в связи с призывом. Работодатели должны оформлять приостановление трудовых договоров с сотрудниками, подлежащими мобилизации. Для этого работник должен предоставить работодателю копию повестки из военкомата о призыве на военную службу по мобилизации. Затем работодатель издает приказ о приостановлении трудового договора, на основе которого бухгалтерия производит расчет сотрудника, в том числе начисляет зарплату за все отработанные, но еще не оплаченные дни, не дожидаясь даты выплаты зарплаты. Период приостановки трудового договора в случае мобилизации работника включается в его трудовой стаж.\n",
      "Подробно о том, что должны делать работодатели в связи с объявленной мобилизацией, мы писали в статьях:\n",
      "\n",
      "\n",
      "Работодатели не будут платить страховые взносы в отношении сотрудников, с которыми приостановлен трудовой договор на период их мобилизации. Сведения о приостановлении трудового договора с работником будут поступать в Пенсионный фонд (с 1 января 2023 года – в объединенный Социальный фонд России).\n",
      "ПФР подготовил изменения в порядок заполнения формы СЗВ-СТАЖ, позволяющие указывать периоды приостановления и возобновления действия трудового договора с работником, в частности в связи с мобилизацией. Вводится код «ВОЕНСЛ», который указывается в графе 11 «Дополнительные сведения» для периодов службы, при которых за работником сохранялось рабочее место, в соответствии со статьей 351.7 ТК РФ.\n",
      "В Госдуму поступили поправки в статью 407 НК РФ, которые предлагают освободить от уплаты налога на имущество граждан, призванных на военную службу по мобилизации. Законопроект № 201761-8 разработан в целях государственной поддержки мобилизованных граждан и их семей.\n",
      "\n",
      "Госдума приняла законопроект, который дает право гражданам, призванным на военную службу в рамках мобилизации, а также членам их семей оформить кредитные каникулы. Заемщик, призванный на военную службу, будет вправе обратиться к кредитору с требованием об изменении условий договора, предусматривающим полное приостановление исполнения обязательств или временное уменьшение размера платежей. Продолжительность кредитных каникул не должна превышать срок военной службы.\n",
      "Обратиться за кредитными каникулами такие граждане смогут в любой момент в течение действия договора, но не позднее 31 декабря 2023 года. В случае гибели заемщика или получения им инвалидности I группы кредит будет списан целиком.\n",
      "Минцифры призывает работодателей поддержать мобилизованных IT-специалистов и сотрудников связи. «Просим руководителей ИТ-компаний и операторов связи позаботиться о мобилизованных сотрудниках: обеспечить их ежемесячными выплатами в размере не менее 80% заработной платы, единовременно выплатить несколько окладов, оформить полисы ДМС для семей. Это минимум, который мы должны сделать сейчас», - отмечается в сообщении Минцифры.\n",
      "Минцифры запустило на Госуслугах сервис по подаче заявлений на предоставление отсрочки от военной службы по мобилизации. Данный сервис предназначен для сотрудников сферы информации и связи.\n",
      "Для направления заявления специалист должен заполнить форму-подтверждение от работодателя и заверить ее усиленной квалифицированной электронной подписью генерального директора. После обработки полученной заявки Минцифры направит ее в Генштаб РФ. При этом решение о предоставлении отсрочки от мобилизации примет Минобороны РФ. Пока новый сервис доступен только на территории России.\n",
      "\n",
      "\n",
      "С 1 января 2023 года страховые пенсии неработающих граждан будут проиндексированы на 4,8%, что обеспечит прибавку в среднем в размере 1000 рублей. С 1 июня 2022 года страховые и социальные пенсии уже были проиндексированы на 10%. Таким образом, суммарное повышение страховых пенсий за год будет больше прогнозного уровня инфляции 2022 года (12,4%).\n",
      "По состоянию на 1 января 2022 года средняя страховая пенсия по старости неработающих пенсионеров составляла 19 017 рублей. В декабре 2022 года, с учетом июньской индексации, средний размер страховой пенсии по старости для неработающих граждан составит 20 864 рубля. В январе 2023 года средний размер такой пенсии будет равен 21 864 рубля.\n",
      "\n",
      "\n",
      "В 2023 году у самозанятых граждан может появиться возможность получать пособие по временной нетрудоспособности. Соответствующий законопроект должен поступить в Госдуму до конца текущего года.\n",
      "Как поясняют в Минтруде, размер ежемесячного страхового взноса для самозанятых в рамках добровольного социального страхования будет определяться по стоимости базового страхуемого дохода. На 2023 год этот доход составит 32 484 рубля. Соответственно, ежемесячный страховой взнос для самозанятого в 2023 году будет составлять 1 247 рублей. Размер выплаты по больничному в предлагаемой модели страхования будет варьироваться в зависимости от страхового стажа самозанятого и периода уплаты им взносов. При этом в стаже самозанятого будет учитываться и тот период, который был отработан по трудовому договору в прошлом.\n",
      "\n",
      "Правительство РФ утвердило новые правила аккредитации IT-компаний, в том числе для целей получения налоговых льгот. Согласно новым правилам, аккредитацию смогут получить компании, в которых выручка от IT-деятельности составляет минимум 30%. При этом новые правила аккредитации содержат расширенный список профильных ОКВЭД, в который входит более 30 видов деятельности. IT-стартапы, не имеющие выручки, также могут получить аккредитацию. Для этого необходимо соответствовать следующим критериям:\n",
      "\n",
      "\n",
      "Новые правила аккредитации вступили в силу с 1 октября 2022 года.\n",
      "\n",
      "Кем вы работаете?\n",
      "\n",
      "На БУХ.1С опубликован производственный календарь на 2023 год.\n",
      "СКАЧАТЬ производственный календарь на 2023 год (формат А4, можно распечатать).\n",
      "БУХ.1С приглашает бухгалтеров стать героями интервью. Знаете такое выражение «проснуться знаменитым»? БУХ.1С решил делать знаменитыми бухгалтеров. Мы открыли рубрику «Бухгалтер в ответе», в рамках которой будем беседовать о жизни, работе и 1С с самыми разными бухгалтерами (главными и не очень, работающими в больших компаниях и «на себя»).\n",
      "Пишите на buh@1c.ru с пометкой в теме письма ИНТЕРВЬЮ.\n"
     ]
    }
   ],
   "source": [
    "get_recom(buh_clust, reduces_buh, 0)"
   ]
  },
  {
   "cell_type": "code",
   "execution_count": 39,
   "metadata": {},
   "outputs": [
    {
     "name": "stdout",
     "output_type": "stream",
     "text": [
      "title:\n",
      "Правительство установило, какие организации могут ограничивать доступ к своей отчетности в ГИР БО\n",
      "content:\n",
      "Правительство определило перечень организаций, которые могут ограничивать доступ к своей бухгалтерской отчетности, размещенной в Государственном информационном ресурсе бухгалтерской (финансовой) отчетности (ГИР БО).\n",
      "Соответствующее постановление от 16.09.2022 № 1624 опубликовано на Официальном интернет-портале правовой информации.\n",
      "Напомним, статья 18 закона о бухучете (от 06.12.2011 № 402-ФЗ) разрешает Правительству РФ определить случаи, в которых доступ к информации в ГИР БО может быть ограничен.\n",
      "В связи с этим правительство установило, что доступ к информации в указанном ресурсе может быть ограничен в следующих случаях:\n",
      "Также постановление содержит правила ограничения и возобновления доступа к информации, содержащейся в ГИР БО.\n",
      "В частности, ограничение и возобновление доступа к информации в ГИР БО осуществляется на основании соответствующих заявлений, направленных самими организациями в ФНС. Указанные заявления нужно будет направлять исключительно в электронной форме.\n",
      "Новые нормы вступят в силу с 1 января 2023 года.\n",
      "Следить за новостями удобно в нашем новостном Telegram-канале. Присоединяйтесь!\n"
     ]
    }
   ],
   "source": [
    "get_recom(buh_clust, reduces_buh, 1)"
   ]
  },
  {
   "cell_type": "code",
   "execution_count": 40,
   "metadata": {},
   "outputs": [
    {
     "name": "stdout",
     "output_type": "stream",
     "text": [
      "title:\n",
      "Продажа товаров своему работодателю не попадает под налог на профессиональный доход  \n",
      "content:\n",
      "Минфин уточнил, можно ли применять налог на профессиональный доход в отношении доходов, полученных от реализации товаров своему работодателю.\n",
      "В своем письме от 24.08.2022 № 03-11-06/82525 ведомство отмечает, что объектом обложения НПД признаются доходы от реализации товаров (работ, услуг, имущественных прав).\n",
      "При этом не признаются объектом обложения данным налогом доходы от оказания (выполнения) физическими лицами услуг (работ) по гражданско-правовым договорам, при условии, что заказчиками услуг (работ) выступают работодатели указанных физических лиц или лица, бывшие их работодателями менее 2 лет назад.\n",
      "Таким образом, доходы, полученные от реализации товаров своему работодателю, не признаются объектом налогообложения НПД.\n",
      "Следить за новостями удобно в нашем новостном Telegram-канале. Присоединяйтесь!\n"
     ]
    }
   ],
   "source": [
    "get_recom(buh_clust, reduces_buh, 2)"
   ]
  },
  {
   "cell_type": "code",
   "execution_count": 42,
   "metadata": {},
   "outputs": [
    {
     "name": "stdout",
     "output_type": "stream",
     "text": [
      "title:\n",
      "ПФР вводит новые коды для заполнения формы СЗВ-СТАЖ в отношении мобилизованных работников\n",
      "content:\n",
      "ПФР подготовил поправки в правила заполнения сведений о страховом стаже работников (форма СЗВ-СТАЖ). Проект соответствующего постановления опубликован на Едином портале для размещения проектов НПА.\n",
      "Напомним, сведения о страховом стаже работников представляются работодателями в ПФР по форме СЗВ-СТАЖ, утвержденной постановлением Правления ПФР от 06.12.2018 № 507п (с изменениями и дополнениями).\n",
      "Теперь ПФР подготовил изменения в порядок заполнения формы СЗВ-СТАЖ, позволяющие указывать периоды приостановления и возобновления действия трудового договора с работником, в частности в связи с мобилизацией.\n",
      "Также учтены изменения правил исчисления периодов работы, дающих право на досрочную пенсию, в части включения в стаж периодов профессионального обучения или дополнительного профессионального образования с отрывом от работы сотрудников, работающих в районах Крайнего Севера и приравненных к ним местностях.\n",
      "Проект предлагает дополнить коды категории застрахованного лица, используемые при заполнении сведений для ведения персонифицированного учета, и коды исчисления страхового стажа.\n",
      "Так, вводится код «ВОЕНСЛ», который указывается в графе 11 «Дополнительные сведения» для периодов службы, при которых за работником сохранялось рабочее место, в соответствии со статьей 351.7 ТК РФ.\n",
      "Также вводятся новые коды категории застрахованного лица:\n",
      "\n",
      "\n",
      "Кроме того, поправки предлагается внести в электронный формат сведений для формы «Сведения о страховом стаже застрахованных лиц (СЗВ-СТАЖ)».\n",
      "В учетных решениях «1С:Предприятие» изменения в заполнении формы СЗВ-СТАЖ будут реализованы после утверждения соответствующего постановления ПФР, его регистрации в Минюсте России и опубликования в установленном порядке с выходом очередных версий. О сроках см. в «Мониторинге законодательства».\n",
      "Следить за новостями удобно в нашем новостном Telegram-канале. Присоединяйтесь!\n"
     ]
    }
   ],
   "source": [
    "get_recom(buh_clust, reduces_buh, 100)"
   ]
  },
  {
   "cell_type": "code",
   "execution_count": 43,
   "metadata": {},
   "outputs": [
    {
     "name": "stdout",
     "output_type": "stream",
     "text": [
      "title:\n",
      "Опубликована видеозапись лекции о ФСБУ 25: аренда по договору в валюте и учет по ПБУ 18 в решениях \"1С:ERP\" и \"1С:Комплексная автоматизация\"\n",
      "content:\n",
      "На странице 1С:Лектория опубликована видеозапись лекции о ФСБУ 25: аренда по договору в валюте и учет по ПБУ 18 в решениях \"1С:ERP\" и \"1С:Комплексная автоматизация\". Видеозапись состоит из двух частей:\n",
      "А. Фроленкова. ФСБУ 25. Аренда по договору в валюте и учет по ПБУ 18 в программах 1C:ERP и 1С:Комплексная автоматизация\n",
      "С расписанием онлайн-лекций и мероприятий по 1С можно ознакомиться на нашем сайте.\n"
     ]
    }
   ],
   "source": [
    "get_recom(gen_clust, reduces_gen, 0)"
   ]
  },
  {
   "cell_type": "code",
   "execution_count": 44,
   "metadata": {},
   "outputs": [
    {
     "name": "stdout",
     "output_type": "stream",
     "text": [
      "title:\n",
      "Росстат ввел новые формы отчетности для театров, музеев и цирков\n",
      "content:\n",
      "Росстат утвердил новые годовые формы отчетности для организаций сферы культуры. Соответствующие приказы и опубликованы на официальном сайте статистического ведомства.\n",
      "Так, с отчетности за 2022 год приказ от 16.09.2022 № 641 вводит новые годовые формы:\n",
      "Новая форма № 8-НК «Сведения о деятельности музея» введена приказом от 22.09.2022 № 647 также с отчетности за 2022 год.\n",
      "Перечисленные формы отчетности организации сферы культуры должны ежегодно сдавать в Министерство культуры\n",
      "Прежние аналогичные формы отчетности, утвержденные приказами Росстата от 18.10.2021 № 713 и от 26.09.2018 № 584, упраздняются.\n",
      "Следить за новостями удобно в нашем новостном Telegram-канале. Присоединяйтесь!\n"
     ]
    }
   ],
   "source": [
    "get_recom(gen_clust, reduces_gen, 1)"
   ]
  },
  {
   "cell_type": "code",
   "execution_count": 45,
   "metadata": {},
   "outputs": [
    {
     "name": "stdout",
     "output_type": "stream",
     "text": [
      "title:\n",
      "Для упрощенцев установят правило расчета налога при смене места нахождения организации \n",
      "content:\n",
      "Минфин планирует уточнить в НК РФ порядок исчисления единого налога по УСН при смене места нахождения организации или места жительства ИП.\n",
      "Соответствующий законопроект, подготовленный для выполнения положений основных направлений налоговой политики, опубликован на Едином портале для размещения проектов НПА.\n",
      "В частности, законопроект предлагает дополнить пункт 2 статьи 34621 НК РФ нормой, согласно которой при изменении места нахождения организации (места жительства индивидуального предпринимателя) из одного субъекта РФ в другой субъект РФ налог (авансовые платежи по налогу) исчисляется по ставке, действующей по новому месту нахождения организации (месту жительства ИП).\n",
      "Как пояснили в министерстве, данное уточнение необходимо в случае, когда одним из субъектов РФ установлены пониженные налоговые ставки для УСН.\n",
      "Следить за новостями удобно в нашем новостном Telegram-канале. Присоединяйтесь!\n"
     ]
    }
   ],
   "source": [
    "get_recom(gen_clust, reduces_gen, 2)"
   ]
  },
  {
   "cell_type": "code",
   "execution_count": 46,
   "metadata": {},
   "outputs": [
    {
     "name": "stdout",
     "output_type": "stream",
     "text": [
      "title:\n",
      "ФНС введет новый формат электронной доверенности налогоплательщика \n",
      "content:\n",
      "ФНС изменит формат электронной доверенности, подтверждающей полномочия представителя налогоплательщика (плательщика сбора, плательщика страховых взносов, налогового агента). Проект соответствующего приказа опубликован на Едином портале для размещения проектов НПА.\n",
      "Напомним, действующий формат электронной доверенности утвержден приказом от 30.04.2021 № ЕД-7-26/445@.\n",
      "Вместе с тем с 14 июля 2022 года вступили в силу обновленные правила подписи электронных документов от имени юридических лиц и индивидуальных предпринимателей по доверенности. Соответствующие поправки в статьи 17.2 и 17.3 закона об электронной подписи (от 06.04.2011 № 63-ФЗ) внес Федеральный закон от 14.07.2022 № 339-ФЗ.\n",
      "В частности, новыми нормами предусмотрена возможность применения при подписи электронных документов доверенностей с правом передоверия.\n",
      "В связи с этим ФНС подготовила обновленный формат электронной доверенности налогоплательщика, который обеспечивает возможность оформления передоверия электронной доверенности.\n",
      "Также будет обновлен порядок направления доверенности, подтверждающей полномочия представителя налогоплательщика.\n",
      "Следить за новостями удобно в нашем новостном Telegram-канале. Присоединяйтесь!\n"
     ]
    }
   ],
   "source": [
    "get_recom(gen_clust, reduces_gen, 3)"
   ]
  },
  {
   "cell_type": "code",
   "execution_count": 72,
   "metadata": {},
   "outputs": [],
   "source": [
    "data.to_csv(\"data.csv\", index=False)"
   ]
  },
  {
   "cell_type": "code",
   "execution_count": 76,
   "metadata": {},
   "outputs": [],
   "source": [
    "data['date'] = pd.to_datetime(data['date'])"
   ]
  },
  {
   "cell_type": "code",
   "execution_count": 130,
   "metadata": {},
   "outputs": [],
   "source": [
    "tags_tokens = data[(data['clusters'] == 7) & (data['date'] < '2022-10-09') & (data['date'] > '2022-09-09')]['tags_tokens']"
   ]
  },
  {
   "cell_type": "code",
   "execution_count": 131,
   "metadata": {},
   "outputs": [],
   "source": [
    "cv = CountVectorizer() \n",
    "word_count_vector = cv.fit_transform(tags_tokens)\n",
    "tfidf_transformer = TfidfTransformer(smooth_idf=True,use_idf=True) \n",
    "tfidf_transformer.fit(word_count_vector)\n",
    "\n",
    "count_vector = cv.transform(tags_tokens) \n",
    "tf_idf_vector = tfidf_transformer.transform(count_vector)\n",
    "feature_names = cv.get_feature_names()"
   ]
  },
  {
   "cell_type": "code",
   "execution_count": 132,
   "metadata": {},
   "outputs": [],
   "source": [
    "tfidf_vectors = list()\n",
    "for i in range(len(tags_tokens)):\n",
    "    doc_vec = tf_idf_vector[i]\n",
    "    df = pd.DataFrame(doc_vec.T.todense(), index=feature_names, columns=[\"tfidf\"])\n",
    "    \n",
    "    tfidf_vec = list()\n",
    "    for w in tags_tokens.iloc[i].split():\n",
    "        try:\n",
    "            tfidf_vec.append(df.loc[w]['tfidf'])\n",
    "        except KeyError:\n",
    "            tfidf_vec.append(0)\n",
    "    \n",
    "    tfidf_vectors.append(tfidf_vec)\n",
    "\n",
    "tfidf = np.array(tfidf_vectors)"
   ]
  },
  {
   "cell_type": "code",
   "execution_count": 149,
   "metadata": {},
   "outputs": [
    {
     "data": {
      "text/plain": [
       "array([8, 2, 1, 7])"
      ]
     },
     "execution_count": 149,
     "metadata": {},
     "output_type": "execute_result"
    }
   ],
   "source": [
    "a = np.argpartition(tfidf[3], -4)[-4:]\n",
    "a"
   ]
  },
  {
   "cell_type": "code",
   "execution_count": 154,
   "metadata": {},
   "outputs": [
    {
     "data": {
      "text/plain": [
       "'расчёт ндфл имущественный налог уплата налог земельный налог транспортный налог налог имущество физический лицо уплата зачёт возврат налог налог доход физический лицо ндфл'"
      ]
     },
     "execution_count": 154,
     "metadata": {},
     "output_type": "execute_result"
    }
   ],
   "source": [
    "tags_tokens.tolist()[8]"
   ]
  },
  {
   "cell_type": "code",
   "execution_count": 137,
   "metadata": {},
   "outputs": [
    {
     "data": {
      "text/plain": [
       "'налог'"
      ]
     },
     "execution_count": 137,
     "metadata": {},
     "output_type": "execute_result"
    }
   ],
   "source": [
    "tags_tokens.tolist()[0].split()[8]"
   ]
  },
  {
   "cell_type": "code",
   "execution_count": 142,
   "metadata": {},
   "outputs": [
    {
     "data": {
      "text/plain": [
       "array([ 6,  7, 10,  1])"
      ]
     },
     "execution_count": 142,
     "metadata": {},
     "output_type": "execute_result"
    }
   ],
   "source": [
    "a = np.argpartition(tfidf[2], -4)[-4:]\n",
    "a"
   ]
  },
  {
   "cell_type": "code",
   "execution_count": 143,
   "metadata": {},
   "outputs": [
    {
     "data": {
      "text/plain": [
       "'код налоговый льгота имущественный налог земельный налог налог имущество организация налоговый отчётность'"
      ]
     },
     "execution_count": 143,
     "metadata": {},
     "output_type": "execute_result"
    }
   ],
   "source": [
    "tags_tokens.tolist()[2]"
   ]
  },
  {
   "cell_type": "code",
   "execution_count": 148,
   "metadata": {},
   "outputs": [
    {
     "data": {
      "text/plain": [
       "'налоговый'"
      ]
     },
     "execution_count": 148,
     "metadata": {},
     "output_type": "execute_result"
    }
   ],
   "source": [
    "tags_tokens.tolist()[2].split()[1]"
   ]
  }
 ],
 "metadata": {
  "kernelspec": {
   "display_name": "Python 3.9.8 ('news-parser-IZMhYhw-')",
   "language": "python",
   "name": "python3"
  },
  "language_info": {
   "codemirror_mode": {
    "name": "ipython",
    "version": 3
   },
   "file_extension": ".py",
   "mimetype": "text/x-python",
   "name": "python",
   "nbconvert_exporter": "python",
   "pygments_lexer": "ipython3",
   "version": "3.9.8"
  },
  "orig_nbformat": 4,
  "vscode": {
   "interpreter": {
    "hash": "e38e1d2d976e0b04ac222758ce702c28e4da0bc7b418738e96d83e0c28582ad9"
   }
  }
 },
 "nbformat": 4,
 "nbformat_minor": 2
}
